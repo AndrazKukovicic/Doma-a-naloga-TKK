{
 "cells": [
  {
   "cell_type": "markdown",
   "metadata": {},
   "source": [
    "Funkcija preberi_kriptogram prebere kriptogram iz datoteke podane s __file_path__ in odstrani presledke in nove vrstice, vrne pa string."
   ]
  },
  {
   "cell_type": "code",
   "execution_count": 2,
   "metadata": {},
   "outputs": [],
   "source": [
    "def preberi_kriptogram(file_path):\n",
    "    with open(file_path, 'r', encoding='utf-8') as dat:\n",
    "        text = dat.read()\n",
    "        text = text.replace('\\n', '').replace(' ', '')\n",
    "        return text"
   ]
  },
  {
   "cell_type": "markdown",
   "metadata": {},
   "source": [
    "Nato pripravim funkciji za pretvarjanja črk v števlke in obratno. Funkcija __crke_v_stevilke__ pretvoti črke besedila v ustrezno število __a -> 0, b -> 1, ..., z -> 25__ in vrne seznam številk. Funkcija __stevilke_v_crke__ pa naredi ravno obratno, sprejme seznam številk in vrne seznam pripadajočih črk."
   ]
  },
  {
   "cell_type": "code",
   "execution_count": 3,
   "metadata": {},
   "outputs": [],
   "source": [
    "def crke_v_stevilke (text):\n",
    "    return [ord(crka) - ord('a') for crka in text]\n",
    "\n",
    "def stevilke_v_crke (stevilke):\n",
    "    list = []\n",
    "    x = ord('a')\n",
    "    for stevilo in stevilke:\n",
    "        list.append(chr(int(stevilo) + x))\n",
    "    return list"
   ]
  },
  {
   "cell_type": "markdown",
   "metadata": {},
   "source": [
    "Sledi glavna funkcija. Za dešifriranje Hillove šifre z dolžino bloka 2 moramo najti šifrirni ključ, ki je v tem primeru matrika velikosti 2x2. Ker je dešifrirni ključ inverzna matrika šifrirnega, morata biti matriki obrnljivi, torej z neničelno determinanto, kar smo upoštevali v 6. vrstici. \n",
    "Iščemo torej elemente matrike H = [[h1, h3], [h2, h4]]. "
   ]
  },
  {
   "cell_type": "code",
   "execution_count": null,
   "metadata": {},
   "outputs": [],
   "source": [
    "def desifriraj (kriptogram):  \n",
    "    for h1 in range(0,26):\n",
    "        for h2 in range(0,26):\n",
    "            for h3 in range(0,26):\n",
    "                for h4 in range(0,26):\n",
    "                    if (h1*h4 - h2*h3) % 26 != 0:   #Determinanta različna od 0, matrika mora biti obrnljiva.\n",
    "                        resitev = []\n",
    "                        for i in range(0, len(kriptogram), 2):\n",
    "                            a = kriptogram[i]\n",
    "                            b = kriptogram[i+1]\n",
    "                            resitev.append((a*h1 + b*h3) % 26)\n",
    "                            resitev.append((a*h2 + b*h4) % 26)\n",
    "                        \n",
    "                        resitev = stevilke_v_crke(resitev)\n",
    "                        resitev = ''.join(resitev)\n",
    "                        if 'the' in resitev  and 'and' in resitev and 'crypto' in resitev: #Ugibam, da se bodo te besede pojavile v besedilu.\n",
    "                            print(resitev)\n",
    "                            print(h1, h2, h3, h4)"
   ]
  }
 ],
 "metadata": {
  "kernelspec": {
   "display_name": "Python 3",
   "language": "python",
   "name": "python3"
  },
  "language_info": {
   "codemirror_mode": {
    "name": "ipython",
    "version": 3
   },
   "file_extension": ".py",
   "mimetype": "text/x-python",
   "name": "python",
   "nbconvert_exporter": "python",
   "pygments_lexer": "ipython3",
   "version": "3.13.2"
  }
 },
 "nbformat": 4,
 "nbformat_minor": 2
}
